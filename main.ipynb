{
 "cells": [
  {
   "cell_type": "code",
   "execution_count": null,
   "metadata": {},
   "outputs": [],
   "source": [
    "import torch\n",
    "import random \n",
    "import numpy as np\n",
    "import datasets.addition_separate as dataset_manager\n",
    "\n",
    "device=\"cuda\""
   ]
  },
  {
   "cell_type": "code",
   "execution_count": null,
   "metadata": {},
   "outputs": [],
   "source": [
    "torch.cuda.is_available()"
   ]
  },
  {
   "cell_type": "code",
   "execution_count": null,
   "metadata": {},
   "outputs": [],
   "source": [
    "random.seed(42)\n",
    "np.random.seed(42)\n",
    "sequence_length = 10\n",
    "\n",
    "# Generate test-set of size 1000\n",
    "test_Xs,test_Ys = dataset_manager.generate_dataset(1000,sequence_length)"
   ]
  },
  {
   "cell_type": "code",
   "execution_count": null,
   "metadata": {},
   "outputs": [],
   "source": [
    "print(test_Xs[0][0])\n",
    "print(test_Ys[0][0])"
   ]
  },
  {
   "cell_type": "code",
   "execution_count": null,
   "metadata": {},
   "outputs": [],
   "source": [
    "from transformer import Transformer\n",
    "\n",
    "model = Transformer(device,dataset_manager.vocab_len_in,dataset_manager.vocab_len_out, sequence_length)\n",
    "model.to(device)"
   ]
  },
  {
   "cell_type": "code",
   "execution_count": null,
   "metadata": {},
   "outputs": [],
   "source": [
    "optimizer = torch.optim.AdamW(model.parameters(), lr=0.0001)\n",
    "for epoch in range(100000):\n",
    "    X_b,Y_b = dataset_manager.generate_dataset(1000,sequence_length)\n",
    "    X_b = X_b.to(device)\n",
    "    Y_b = Y_b.to(device)\n",
    "    optimizer.zero_grad()\n",
    "    out = model(X_b.T, Y_b.T)\n",
    "    loss = model.loss(out, Y_b.T)\n",
    "    loss.backward()\n",
    "    optimizer.step()\n",
    "\n",
    "    if epoch%10==0:\n",
    "        # Evaluate on test set\n",
    "        tX = test_Xs[:]\n",
    "        tY = test_Ys[:]\n",
    "        res = model(tX.T.to(device),tY.T.to(device)).argmax(dim=2).cpu().T\n",
    "        not_end_token = tY[:,1:]!=dataset_manager.end_token_out\n",
    "        digit_accuracy = torch.sum((res[:,:-1]==tY[:,1:]) & not_end_token) / torch.sum(not_end_token)\n",
    "\n",
    "        print(\"Digit accuracy:\", digit_accuracy, \", training_loss:\", loss.detach().cpu().numpy())\n",
    "\n",
    "        torch.save(model,\"model\")"
   ]
  },
  {
   "cell_type": "code",
   "execution_count": null,
   "metadata": {},
   "outputs": [],
   "source": []
  },
  {
   "cell_type": "code",
   "execution_count": null,
   "metadata": {},
   "outputs": [],
   "source": []
  }
 ],
 "metadata": {
  "interpreter": {
   "hash": "63fd5069d213b44bf678585dea6b12cceca9941eaf7f819626cde1f2670de90d"
  },
  "kernelspec": {
   "display_name": "Python 3.9.1 64-bit",
   "name": "python3"
  },
  "language_info": {
   "codemirror_mode": {
    "name": "ipython",
    "version": 3
   },
   "file_extension": ".py",
   "mimetype": "text/x-python",
   "name": "python",
   "nbconvert_exporter": "python",
   "pygments_lexer": "ipython3",
   "version": "3.9.1"
  },
  "orig_nbformat": 4
 },
 "nbformat": 4,
 "nbformat_minor": 2
}
